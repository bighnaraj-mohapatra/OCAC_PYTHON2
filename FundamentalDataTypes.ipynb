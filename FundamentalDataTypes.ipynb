{
 "cells": [
  {
   "cell_type": "code",
   "execution_count": 1,
   "id": "4e568a1e-5b3b-4fe9-8229-75cd15ebaad1",
   "metadata": {},
   "outputs": [
    {
     "data": {
      "text/plain": [
       "9.0"
      ]
     },
     "execution_count": 1,
     "metadata": {},
     "output_type": "execute_result"
    }
   ],
   "source": [
    "a = 3\n",
    "b = 6.0\n",
    "sum = a+b\n",
    "sum"
   ]
  },
  {
   "cell_type": "code",
   "execution_count": 2,
   "id": "56980917-9740-4578-961f-a360b1d1cb47",
   "metadata": {},
   "outputs": [
    {
     "data": {
      "text/plain": [
       "5"
      ]
     },
     "execution_count": 2,
     "metadata": {},
     "output_type": "execute_result"
    }
   ],
   "source": [
    "#Type casting : Conversion from one type to another type\n",
    "num1 = 5.9\n",
    "int(num1)"
   ]
  },
  {
   "cell_type": "code",
   "execution_count": 3,
   "id": "6c5f46ec-cd17-4cb1-9041-7caee28e28d4",
   "metadata": {},
   "outputs": [
    {
     "data": {
      "text/plain": [
       "bool"
      ]
     },
     "execution_count": 3,
     "metadata": {},
     "output_type": "execute_result"
    }
   ],
   "source": [
    "var1 = False\n",
    "type(var1)"
   ]
  },
  {
   "cell_type": "code",
   "execution_count": 4,
   "id": "73626624-4846-4623-918e-c62384987b8b",
   "metadata": {},
   "outputs": [
    {
     "data": {
      "text/plain": [
       "1"
      ]
     },
     "execution_count": 4,
     "metadata": {},
     "output_type": "execute_result"
    }
   ],
   "source": [
    "int(True)"
   ]
  },
  {
   "cell_type": "code",
   "execution_count": 5,
   "id": "c5c7958c-55d6-480d-abe7-e72cead3f585",
   "metadata": {},
   "outputs": [
    {
     "data": {
      "text/plain": [
       "0"
      ]
     },
     "execution_count": 5,
     "metadata": {},
     "output_type": "execute_result"
    }
   ],
   "source": [
    "int(False)"
   ]
  },
  {
   "cell_type": "code",
   "execution_count": 6,
   "id": "b656dbc4-9597-474a-850f-1a26ae21cf5f",
   "metadata": {},
   "outputs": [
    {
     "data": {
      "text/plain": [
       "1"
      ]
     },
     "execution_count": 6,
     "metadata": {},
     "output_type": "execute_result"
    }
   ],
   "source": [
    "False+True"
   ]
  },
  {
   "cell_type": "code",
   "execution_count": 7,
   "id": "c87e0375-c976-498b-a822-303c63dd5a3c",
   "metadata": {},
   "outputs": [
    {
     "data": {
      "text/plain": [
       "4.8"
      ]
     },
     "execution_count": 7,
     "metadata": {},
     "output_type": "execute_result"
    }
   ],
   "source": [
    "b = 4.8\n",
    "c = False\n",
    "b+c"
   ]
  },
  {
   "cell_type": "code",
   "execution_count": 10,
   "id": "353cc9b4-3c67-4d36-8711-ed641213d9bd",
   "metadata": {},
   "outputs": [
    {
     "name": "stdout",
     "output_type": "stream",
     "text": [
      "<class 'complex'>\n",
      "30.0\n",
      "<class 'float'>\n",
      "20.0\n",
      "<class 'float'>\n"
     ]
    }
   ],
   "source": [
    "#Complex\n",
    "x = 20j + 30\n",
    "print(type(x))\n",
    "print(x.real)\n",
    "print(type(x.real))\n",
    "print(x.imag)\n",
    "print(type(x.imag))\n",
    "\n"
   ]
  },
  {
   "cell_type": "code",
   "execution_count": 11,
   "id": "f3dee2aa-c58d-48a2-824c-bd3b44963e05",
   "metadata": {},
   "outputs": [
    {
     "name": "stdout",
     "output_type": "stream",
     "text": [
      "1.0 -2.0\n"
     ]
    }
   ],
   "source": [
    "y = 1.0 - 2.0j\n",
    "print(y.real, y.imag)"
   ]
  },
  {
   "cell_type": "code",
   "execution_count": 13,
   "id": "ab7047e8-04c9-41d3-bbe1-350b9c4ddf0d",
   "metadata": {},
   "outputs": [
    {
     "name": "stdout",
     "output_type": "stream",
     "text": [
      "Hey\n",
      "Hey\n",
      "Hey\n"
     ]
    }
   ],
   "source": [
    "str1 = 'Hey'\n",
    "str2 = \"Hey\"\n",
    "str3 = '''Hey'''\n",
    "print(str1)\n",
    "print(str2)\n",
    "print(str3)"
   ]
  },
  {
   "cell_type": "code",
   "execution_count": 14,
   "id": "fab28fce-38d2-4503-86a6-5359623d71af",
   "metadata": {},
   "outputs": [
    {
     "ename": "ValueError",
     "evalue": "invalid literal for int() with base 10: 'Bighnaraj'",
     "output_type": "error",
     "traceback": [
      "\u001b[1;31m---------------------------------------------------------------------------\u001b[0m",
      "\u001b[1;31mValueError\u001b[0m                                Traceback (most recent call last)",
      "Cell \u001b[1;32mIn[14], line 2\u001b[0m\n\u001b[0;32m      1\u001b[0m a \u001b[38;5;241m=\u001b[39m \u001b[38;5;124m'\u001b[39m\u001b[38;5;124mBighnaraj\u001b[39m\u001b[38;5;124m'\u001b[39m\n\u001b[1;32m----> 2\u001b[0m \u001b[38;5;28mint\u001b[39m(a)\n",
      "\u001b[1;31mValueError\u001b[0m: invalid literal for int() with base 10: 'Bighnaraj'"
     ]
    }
   ],
   "source": [
    "a = 'Bighnaraj'\n",
    "int(a)"
   ]
  },
  {
   "cell_type": "code",
   "execution_count": 15,
   "id": "5c8a05da-f9f6-4705-9424-0a8dd867501d",
   "metadata": {},
   "outputs": [
    {
     "name": "stdout",
     "output_type": "stream",
     "text": [
      "Bighnaraj's \"laptop\"\n"
     ]
    }
   ],
   "source": [
    "print('Bighnaraj\\'s \"laptop\"')"
   ]
  },
  {
   "cell_type": "code",
   "execution_count": 18,
   "id": "44048fa8-06e5-4c8f-a2a2-a49346e24f0d",
   "metadata": {},
   "outputs": [
    {
     "data": {
      "text/plain": [
       "1003"
      ]
     },
     "execution_count": 18,
     "metadata": {},
     "output_type": "execute_result"
    }
   ],
   "source": [
    "a = \"100\"\n",
    "c = \"3\"\n",
    "int(a + c)"
   ]
  },
  {
   "cell_type": "code",
   "execution_count": 19,
   "id": "0e019ab4-8913-4767-b360-292fb96a969f",
   "metadata": {},
   "outputs": [
    {
     "data": {
      "text/plain": [
       "'BighnarajBighnarajBighnarajBighnarajBighnarajBighnaraj'"
      ]
     },
     "execution_count": 19,
     "metadata": {},
     "output_type": "execute_result"
    }
   ],
   "source": [
    "name = \"Bighnaraj\"\n",
    "name * 6"
   ]
  },
  {
   "cell_type": "code",
   "execution_count": 30,
   "id": "e07064d6-e59e-4f8e-8c80-34e14aa6864b",
   "metadata": {},
   "outputs": [
    {
     "data": {
      "text/plain": [
       "'Good afternoon'"
      ]
     },
     "execution_count": 30,
     "metadata": {},
     "output_type": "execute_result"
    }
   ],
   "source": [
    "greeting = \"good afternoon\"\n",
    "greeting.capitalize()\n"
   ]
  },
  {
   "cell_type": "code",
   "execution_count": 31,
   "id": "4e7ee43d-60c5-446a-8cfb-b0107f1779e4",
   "metadata": {},
   "outputs": [
    {
     "data": {
      "text/plain": [
       "'Good Afternoon'"
      ]
     },
     "execution_count": 31,
     "metadata": {},
     "output_type": "execute_result"
    }
   ],
   "source": [
    "greeting.title()"
   ]
  },
  {
   "cell_type": "code",
   "execution_count": 32,
   "id": "5a1e1d54-72a1-4e44-b47b-787c9b98e604",
   "metadata": {},
   "outputs": [
    {
     "data": {
      "text/plain": [
       "'GOOD AFTERNOON'"
      ]
     },
     "execution_count": 32,
     "metadata": {},
     "output_type": "execute_result"
    }
   ],
   "source": [
    "greeting.upper()"
   ]
  },
  {
   "cell_type": "code",
   "execution_count": 33,
   "id": "b373c7fb-5fc2-4e13-8b7b-306fd5bcf73e",
   "metadata": {},
   "outputs": [
    {
     "data": {
      "text/plain": [
       "'good afternoon'"
      ]
     },
     "execution_count": 33,
     "metadata": {},
     "output_type": "execute_result"
    }
   ],
   "source": [
    "greeting.lower()"
   ]
  },
  {
   "cell_type": "code",
   "execution_count": 34,
   "id": "bae480e0-b870-4218-a56c-79dcf9a1a084",
   "metadata": {},
   "outputs": [
    {
     "data": {
      "text/plain": [
       "['good', 'afternoon']"
      ]
     },
     "execution_count": 34,
     "metadata": {},
     "output_type": "execute_result"
    }
   ],
   "source": [
    "greeting.split(\" \")"
   ]
  },
  {
   "cell_type": "code",
   "execution_count": 35,
   "id": "f7ab8c22-dd14-4a47-b4ee-e1a1073762f6",
   "metadata": {},
   "outputs": [
    {
     "data": {
      "text/plain": [
       "'Hello Good Afternoon'"
      ]
     },
     "execution_count": 35,
     "metadata": {},
     "output_type": "execute_result"
    }
   ],
   "source": [
    "\" \".join(['Hello','Good','Afternoon'])"
   ]
  },
  {
   "cell_type": "code",
   "execution_count": 37,
   "id": "4d9b7824-65c5-4ec5-88fc-aedd73c2f090",
   "metadata": {},
   "outputs": [
    {
     "data": {
      "text/plain": [
       "0"
      ]
     },
     "execution_count": 37,
     "metadata": {},
     "output_type": "execute_result"
    }
   ],
   "source": [
    "greeting.find(\"good\")"
   ]
  },
  {
   "cell_type": "code",
   "execution_count": 38,
   "id": "d7bf3ee6-34d1-4cdc-aba0-a40599a00fa6",
   "metadata": {},
   "outputs": [
    {
     "data": {
      "text/plain": [
       "4"
      ]
     },
     "execution_count": 38,
     "metadata": {},
     "output_type": "execute_result"
    }
   ],
   "source": [
    "greeting.count('o')"
   ]
  },
  {
   "cell_type": "code",
   "execution_count": 39,
   "id": "93d3c16f-204d-4800-9aa2-9078922a49c6",
   "metadata": {},
   "outputs": [
    {
     "data": {
      "text/plain": [
       "'bad afternoon'"
      ]
     },
     "execution_count": 39,
     "metadata": {},
     "output_type": "execute_result"
    }
   ],
   "source": [
    "greeting.replace(\"good\",\"bad\")"
   ]
  },
  {
   "cell_type": "code",
   "execution_count": 45,
   "id": "26f02f13-e639-442c-9d05-69c0c3f16306",
   "metadata": {},
   "outputs": [
    {
     "name": "stdout",
     "output_type": "stream",
     "text": [
      "False\n",
      "False\n",
      "False\n",
      "True\n",
      "False\n",
      "False\n",
      "False\n",
      "False\n",
      "True\n"
     ]
    }
   ],
   "source": [
    "name = \"Bighnaraj1123 \"\n",
    "print(name.isalnum())\n",
    "print(name.isalpha())\n",
    "print(name.isdigit())\n",
    "print(name.istitle())\n",
    "print(name.isupper())\n",
    "print(name.islower())\n",
    "print(name.isspace())\n",
    "print(name.endswith('3'))\n",
    "print(name.startswith('B'))\n",
    "\n"
   ]
  },
  {
   "cell_type": "code",
   "execution_count": 46,
   "id": "9cd5a052-c1ff-40d2-a4bf-3453ca6fd351",
   "metadata": {},
   "outputs": [
    {
     "name": "stdout",
     "output_type": "stream",
     "text": [
      "False\n",
      "False\n",
      "False\n",
      "False\n",
      "False\n",
      "False\n",
      "False\n",
      "False\n",
      "True\n"
     ]
    }
   ],
   "source": [
    "name = \"Bighnaraj1123 is my username \"\n",
    "print(name.isalnum())\n",
    "print(name.isalpha())\n",
    "print(name.isdigit())\n",
    "print(name.istitle())\n",
    "print(name.isupper())\n",
    "print(name.islower())\n",
    "print(name.isspace())\n",
    "print(name.endswith('3'))\n",
    "print(name.startswith('B'))\n",
    "\n"
   ]
  },
  {
   "cell_type": "code",
   "execution_count": null,
   "id": "572f46f4-09c3-45b7-9401-05e8bba27916",
   "metadata": {},
   "outputs": [],
   "source": []
  }
 ],
 "metadata": {
  "kernelspec": {
   "display_name": "Python 3 (ipykernel)",
   "language": "python",
   "name": "python3"
  },
  "language_info": {
   "codemirror_mode": {
    "name": "ipython",
    "version": 3
   },
   "file_extension": ".py",
   "mimetype": "text/x-python",
   "name": "python",
   "nbconvert_exporter": "python",
   "pygments_lexer": "ipython3",
   "version": "3.11.7"
  }
 },
 "nbformat": 4,
 "nbformat_minor": 5
}
