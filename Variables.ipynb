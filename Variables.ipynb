{
 "cells": [
  {
   "cell_type": "code",
   "execution_count": 1,
   "id": "32005147-994b-495c-b5d0-2dcae07030a9",
   "metadata": {},
   "outputs": [
    {
     "name": "stdin",
     "output_type": "stream",
     "text": [
      "Enter a number :  32\n"
     ]
    },
    {
     "data": {
      "text/plain": [
       "str"
      ]
     },
     "execution_count": 1,
     "metadata": {},
     "output_type": "execute_result"
    }
   ],
   "source": [
    "a = input('Enter a number : ')\n",
    "type(a)"
   ]
  },
  {
   "cell_type": "code",
   "execution_count": 2,
   "id": "d99884a5-c543-4e58-8419-767ef80720f6",
   "metadata": {},
   "outputs": [
    {
     "name": "stdin",
     "output_type": "stream",
     "text": [
      "Enter your name:  Bighnaraj Mohapatra\n"
     ]
    },
    {
     "name": "stdout",
     "output_type": "stream",
     "text": [
      "Bighnaraj\n",
      "Mohapatra\n"
     ]
    }
   ],
   "source": [
    "# Multiple entries in a single line\n",
    "firstName, lastName = input(\"Enter your name: \").split(\" \")\n",
    "print(firstName)\n",
    "print(lastName)"
   ]
  },
  {
   "cell_type": "code",
   "execution_count": 1,
   "id": "63af00af-4359-4e22-99f9-09e15d241e51",
   "metadata": {},
   "outputs": [
    {
     "name": "stdout",
     "output_type": "stream",
     "text": [
      "100\n"
     ]
    }
   ],
   "source": [
    "a = 100\n",
    "print(a)\n"
   ]
  },
  {
   "cell_type": "code",
   "execution_count": 2,
   "id": "d0286543-2bac-4535-b1dc-499970dd3530",
   "metadata": {},
   "outputs": [
    {
     "name": "stdout",
     "output_type": "stream",
     "text": [
      "a\n"
     ]
    }
   ],
   "source": [
    "print('a')"
   ]
  },
  {
   "cell_type": "code",
   "execution_count": 3,
   "id": "3a4ae2a4-0ff4-421f-b7ea-ffa2c4616a57",
   "metadata": {},
   "outputs": [
    {
     "data": {
      "text/plain": [
       "int"
      ]
     },
     "execution_count": 3,
     "metadata": {},
     "output_type": "execute_result"
    }
   ],
   "source": [
    "a = 100\n",
    "type(a)"
   ]
  },
  {
   "cell_type": "code",
   "execution_count": 4,
   "id": "98ad6981-da0c-4443-85c8-356b5506c087",
   "metadata": {},
   "outputs": [
    {
     "name": "stdout",
     "output_type": "stream",
     "text": [
      "['False', 'None', 'True', 'and', 'as', 'assert', 'async', 'await', 'break', 'class', 'continue', 'def', 'del', 'elif', 'else', 'except', 'finally', 'for', 'from', 'global', 'if', 'import', 'in', 'is', 'lambda', 'nonlocal', 'not', 'or', 'pass', 'raise', 'return', 'try', 'while', 'with', 'yield']\n"
     ]
    }
   ],
   "source": [
    "import keyword\n",
    "print(keyword.kwlist)"
   ]
  },
  {
   "cell_type": "code",
   "execution_count": 5,
   "id": "3b9c9933-8d1d-4d5d-bfa0-b1523c5d945b",
   "metadata": {},
   "outputs": [
    {
     "data": {
      "text/plain": [
       "35"
      ]
     },
     "execution_count": 5,
     "metadata": {},
     "output_type": "execute_result"
    }
   ],
   "source": [
    "len(keyword.kwlist)"
   ]
  },
  {
   "cell_type": "code",
   "execution_count": 6,
   "id": "b535e7bd-ffd3-4987-83bb-b30c5a5fcf1b",
   "metadata": {},
   "outputs": [
    {
     "data": {
      "text/plain": [
       "'Hello'"
      ]
     },
     "execution_count": 6,
     "metadata": {},
     "output_type": "execute_result"
    }
   ],
   "source": [
    "true = \"Hello\"\n",
    "true"
   ]
  },
  {
   "cell_type": "code",
   "execution_count": 7,
   "id": "684be666-944b-452f-919d-13f470c5d781",
   "metadata": {},
   "outputs": [
    {
     "ename": "SyntaxError",
     "evalue": "invalid decimal literal (3879533741.py, line 2)",
     "output_type": "error",
     "traceback": [
      "\u001b[1;36m  Cell \u001b[1;32mIn[7], line 2\u001b[1;36m\u001b[0m\n\u001b[1;33m    4b = 69\u001b[0m\n\u001b[1;37m    ^\u001b[0m\n\u001b[1;31mSyntaxError\u001b[0m\u001b[1;31m:\u001b[0m invalid decimal literal\n"
     ]
    }
   ],
   "source": [
    "# We cannot declare the name of a variable starting with a digit\n",
    "4b = 69"
   ]
  },
  {
   "cell_type": "code",
   "execution_count": 8,
   "id": "2378bad8-2ec6-431a-b2b0-1ef9774f0c86",
   "metadata": {},
   "outputs": [
    {
     "ename": "SyntaxError",
     "evalue": "invalid syntax (321556327.py, line 2)",
     "output_type": "error",
     "traceback": [
      "\u001b[1;36m  Cell \u001b[1;32mIn[8], line 2\u001b[1;36m\u001b[0m\n\u001b[1;33m    $dollar = 3\u001b[0m\n\u001b[1;37m    ^\u001b[0m\n\u001b[1;31mSyntaxError\u001b[0m\u001b[1;31m:\u001b[0m invalid syntax\n"
     ]
    }
   ],
   "source": [
    "#No special characters are allowed while naming a variable\n",
    "$dollar = 3"
   ]
  },
  {
   "cell_type": "code",
   "execution_count": 9,
   "id": "528e8459-ca34-4e88-99dc-a6332b88deb7",
   "metadata": {},
   "outputs": [
    {
     "data": {
      "text/plain": [
       "'Good afternoon'"
      ]
     },
     "execution_count": 9,
     "metadata": {},
     "output_type": "execute_result"
    }
   ],
   "source": [
    "# We can start the name of a variable with an underscore \n",
    "_greeting = \"Good afternoon\"\n",
    "_greeting"
   ]
  },
  {
   "cell_type": "code",
   "execution_count": 10,
   "id": "ffe1d0a3-b88c-4f32-8851-42a539ada25b",
   "metadata": {},
   "outputs": [
    {
     "name": "stdout",
     "output_type": "stream",
     "text": [
      "140707490877320\n"
     ]
    },
    {
     "data": {
      "text/plain": [
       "140707490877352"
      ]
     },
     "execution_count": 10,
     "metadata": {},
     "output_type": "execute_result"
    }
   ],
   "source": [
    "# Whenever we assign a different value to a variable, its id changes\n",
    "num = 100\n",
    "print(id(num))\n",
    "num = 101\n",
    "id(num)"
   ]
  },
  {
   "cell_type": "code",
   "execution_count": 11,
   "id": "1a9c8a32-7825-4edc-9ba9-4b3404783df2",
   "metadata": {},
   "outputs": [
    {
     "name": "stdout",
     "output_type": "stream",
     "text": [
      "300\n"
     ]
    }
   ],
   "source": [
    "num1 = 100\n",
    "num2 = 200\n",
    "sum = num1 + num2\n",
    "print(sum)"
   ]
  },
  {
   "cell_type": "code",
   "execution_count": 12,
   "id": "34424cf0-d66e-4d42-bf90-cf31cdde1d34",
   "metadata": {},
   "outputs": [
    {
     "data": {
      "text/plain": [
       "18"
      ]
     },
     "execution_count": 12,
     "metadata": {},
     "output_type": "execute_result"
    }
   ],
   "source": [
    "a = b = c = 18\n",
    "a"
   ]
  },
  {
   "cell_type": "code",
   "execution_count": 13,
   "id": "a041546b-8d10-4aae-b56a-07edda8dcd6b",
   "metadata": {},
   "outputs": [
    {
     "name": "stdout",
     "output_type": "stream",
     "text": [
      "750\n"
     ]
    },
    {
     "ename": "NameError",
     "evalue": "name 'a' is not defined",
     "output_type": "error",
     "traceback": [
      "\u001b[1;31m---------------------------------------------------------------------------\u001b[0m",
      "\u001b[1;31mNameError\u001b[0m                                 Traceback (most recent call last)",
      "Cell \u001b[1;32mIn[13], line 5\u001b[0m\n\u001b[0;32m      3\u001b[0m \u001b[38;5;28mprint\u001b[39m(a)\n\u001b[0;32m      4\u001b[0m \u001b[38;5;28;01mdel\u001b[39;00m(a)\n\u001b[1;32m----> 5\u001b[0m \u001b[38;5;28mprint\u001b[39m(a)\n",
      "\u001b[1;31mNameError\u001b[0m: name 'a' is not defined"
     ]
    }
   ],
   "source": [
    "# Deleting element \n",
    "a = 750\n",
    "print(a)\n",
    "del(a)\n",
    "print(a)"
   ]
  },
  {
   "cell_type": "code",
   "execution_count": 14,
   "id": "ca06e3db-8ba4-44d8-80f7-c133ada48a40",
   "metadata": {},
   "outputs": [
    {
     "name": "stdout",
     "output_type": "stream",
     "text": [
      "350\n"
     ]
    }
   ],
   "source": [
    "# Deleting multiple elements\n",
    "a = 100\n",
    "b = 350\n",
    "c = 120\n",
    "del (a,c)\n",
    "print(b)"
   ]
  },
  {
   "cell_type": "code",
   "execution_count": 15,
   "id": "11485b18-cdb7-4108-9e25-59c587db48f8",
   "metadata": {},
   "outputs": [
    {
     "name": "stdout",
     "output_type": "stream",
     "text": [
      "19 34 46\n"
     ]
    }
   ],
   "source": [
    "a = 19\n",
    "b = 34\n",
    "c = 46\n",
    "print(a,b,c) "
   ]
  },
  {
   "cell_type": "code",
   "execution_count": 16,
   "id": "6dccf201-e9cb-4675-8842-1577cf5d5981",
   "metadata": {},
   "outputs": [
    {
     "ename": "SyntaxError",
     "evalue": "invalid syntax. Maybe you meant '==' or ':=' instead of '='? (2239484798.py, line 1)",
     "output_type": "error",
     "traceback": [
      "\u001b[1;36m  Cell \u001b[1;32mIn[16], line 1\u001b[1;36m\u001b[0m\n\u001b[1;33m    a = 19, b = 34, c = 46\u001b[0m\n\u001b[1;37m    ^\u001b[0m\n\u001b[1;31mSyntaxError\u001b[0m\u001b[1;31m:\u001b[0m invalid syntax. Maybe you meant '==' or ':=' instead of '='?\n"
     ]
    }
   ],
   "source": [
    "a = 19, b = 34, c = 46\n",
    "print(a,b,c) # WE CANNOT DECLARE IN THIS WAY"
   ]
  },
  {
   "cell_type": "code",
   "execution_count": 18,
   "id": "6ad696b0-7faf-4157-9df4-58b4fde11c8d",
   "metadata": {},
   "outputs": [
    {
     "name": "stdout",
     "output_type": "stream",
     "text": [
      "10 12 13\n"
     ]
    }
   ],
   "source": [
    "# DECLARATION OF VARIABLES IN A SINGLE LINE\n",
    "a,b,c = 10,12,13\n",
    "print(a,b,c)"
   ]
  },
  {
   "cell_type": "code",
   "execution_count": null,
   "id": "32a47ea8-7280-44b4-bb7b-823b635bfc80",
   "metadata": {},
   "outputs": [],
   "source": []
  }
 ],
 "metadata": {
  "kernelspec": {
   "display_name": "Python 3 (ipykernel)",
   "language": "python",
   "name": "python3"
  },
  "language_info": {
   "codemirror_mode": {
    "name": "ipython",
    "version": 3
   },
   "file_extension": ".py",
   "mimetype": "text/x-python",
   "name": "python",
   "nbconvert_exporter": "python",
   "pygments_lexer": "ipython3",
   "version": "3.11.7"
  }
 },
 "nbformat": 4,
 "nbformat_minor": 5
}
