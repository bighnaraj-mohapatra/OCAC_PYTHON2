{
 "cells": [
  {
   "cell_type": "code",
   "execution_count": 1,
   "id": "a09db0ce-37fb-441e-bc7f-03aea91c563f",
   "metadata": {},
   "outputs": [
    {
     "name": "stdout",
     "output_type": "stream",
     "text": [
      "[]\n",
      "[]\n"
     ]
    }
   ],
   "source": [
    "# Lists\n",
    "# Creation of empty list\n",
    "list1 = []\n",
    "print(list1)\n",
    "list2 = list()\n",
    "print(list2)\n"
   ]
  },
  {
   "cell_type": "code",
   "execution_count": 3,
   "id": "ed9bff19-d5e2-439d-874b-78a39fdd1307",
   "metadata": {},
   "outputs": [
    {
     "data": {
      "text/plain": [
       "['False',\n",
       " 'None',\n",
       " 'True',\n",
       " 'and',\n",
       " 'as',\n",
       " 'assert',\n",
       " 'async',\n",
       " 'await',\n",
       " 'break',\n",
       " 'class',\n",
       " 'continue',\n",
       " 'def',\n",
       " 'del',\n",
       " 'elif',\n",
       " 'else',\n",
       " 'except',\n",
       " 'finally',\n",
       " 'for',\n",
       " 'from',\n",
       " 'global',\n",
       " 'if',\n",
       " 'import',\n",
       " 'in',\n",
       " 'is',\n",
       " 'lambda',\n",
       " 'nonlocal',\n",
       " 'not',\n",
       " 'or',\n",
       " 'pass',\n",
       " 'raise',\n",
       " 'return',\n",
       " 'try',\n",
       " 'while',\n",
       " 'with',\n",
       " 'yield']"
      ]
     },
     "execution_count": 3,
     "metadata": {},
     "output_type": "execute_result"
    }
   ],
   "source": [
    "import keyword\n",
    "keyword.kwlist"
   ]
  },
  {
   "cell_type": "code",
   "execution_count": 5,
   "id": "50855223-e5a9-4025-9ad9-f8113f5241e0",
   "metadata": {},
   "outputs": [
    {
     "data": {
      "text/plain": [
       "range(0, 10)"
      ]
     },
     "execution_count": 5,
     "metadata": {},
     "output_type": "execute_result"
    }
   ],
   "source": [
    "#Range is used since it is memory efficient and we can store multiple values without storing in a data structure\n",
    "range(10)"
   ]
  },
  {
   "cell_type": "code",
   "execution_count": 6,
   "id": "68b910fe-2d74-45b3-9cb5-7a15e7e9494c",
   "metadata": {},
   "outputs": [
    {
     "data": {
      "text/plain": [
       "[0, 1, 2, 3, 4, 5, 6, 7, 8, 9]"
      ]
     },
     "execution_count": 6,
     "metadata": {},
     "output_type": "execute_result"
    }
   ],
   "source": [
    "list(range(10))"
   ]
  },
  {
   "cell_type": "code",
   "execution_count": 7,
   "id": "d6792756-6932-4d07-8217-474d3fca4b93",
   "metadata": {},
   "outputs": [
    {
     "name": "stdout",
     "output_type": "stream",
     "text": [
      "[100, 99, 98, 97, 96, 95, 94, 93, 92, 91, 90, 89, 88, 87, 86, 85, 84, 83, 82, 81, 80, 79, 78, 77, 76, 75, 74, 73, 72, 71, 70, 69, 68, 67, 66, 65, 64, 63, 62, 61, 60, 59, 58, 57, 56, 55, 54, 53, 52, 51, 50, 49, 48, 47, 46, 45, 44, 43, 42, 41, 40, 39, 38, 37, 36, 35, 34, 33, 32, 31, 30, 29, 28, 27, 26, 25, 24, 23, 22, 21, 20, 19, 18, 17, 16, 15, 14, 13, 12, 11, 10, 9, 8, 7, 6, 5, 4, 3, 2, 1, 0]\n"
     ]
    }
   ],
   "source": [
    "#Printing numbers from 100 to 0 \n",
    "print(list(range(100,-1,-1)))"
   ]
  },
  {
   "cell_type": "code",
   "execution_count": 8,
   "id": "d30e7831-9892-4c75-9ed1-dcbcfc8e1c71",
   "metadata": {},
   "outputs": [
    {
     "data": {
      "text/plain": [
       "[1, 2, 4, 5, 'a', 'name']"
      ]
     },
     "execution_count": 8,
     "metadata": {},
     "output_type": "execute_result"
    }
   ],
   "source": [
    "#Lists\n",
    "l1 = [1,2,4,5]\n",
    "l2 = ['a','name']\n",
    "l1+l2"
   ]
  },
  {
   "cell_type": "code",
   "execution_count": 10,
   "id": "51fcc9cb-a236-4a3f-b955-84f9e1509aed",
   "metadata": {},
   "outputs": [
    {
     "name": "stdout",
     "output_type": "stream",
     "text": [
      "[1, 2, 3, 4, [5, 6]]\n"
     ]
    },
    {
     "data": {
      "text/plain": [
       "[1, 2, 3, 4, [5, 6], 7, 8]"
      ]
     },
     "execution_count": 10,
     "metadata": {},
     "output_type": "execute_result"
    }
   ],
   "source": [
    "#Inbuilt functions to add elements are : append, extend (same as concatenation), insert\n",
    "#So while appending a list, the list itself is considered an item to the original list but when we are extending a list to an existing list, \n",
    "#the items are added as items in the existing list. \n",
    "l1 = [1,2,3,4]\n",
    "l1.append([5,6])\n",
    "print(l1)\n",
    "l1.extend([7,8])\n",
    "l1\n"
   ]
  },
  {
   "cell_type": "code",
   "execution_count": 1,
   "id": "7468e13e-a8eb-475c-aee7-f85122189173",
   "metadata": {},
   "outputs": [
    {
     "data": {
      "text/plain": [
       "[2, 3, [17, 3], 4]"
      ]
     },
     "execution_count": 1,
     "metadata": {},
     "output_type": "execute_result"
    }
   ],
   "source": [
    "#Inserting an element at a given index is done using insert function which accepts two parameters : first is the location, second is the value\n",
    "l1 = [2,3,4]\n",
    "l1.insert(2,[17,3])\n",
    "l1"
   ]
  },
  {
   "cell_type": "code",
   "execution_count": 4,
   "id": "f786d0c7-3dd0-437b-9441-4d8319e9da8c",
   "metadata": {},
   "outputs": [
    {
     "data": {
      "text/plain": [
       "[20, 30, 10, 20]"
      ]
     },
     "execution_count": 4,
     "metadata": {},
     "output_type": "execute_result"
    }
   ],
   "source": [
    "#Removing elements in list includes these functions: Remove, Pop, Delete, Clear\n",
    "#remove function removes the first occurrence of the element, we can have list indices as well as arguments. \n",
    "marks = [10,20,30,10,20]\n",
    "marks.remove(10)\n",
    "marks\n"
   ]
  },
  {
   "cell_type": "code",
   "execution_count": 10,
   "id": "0151ee1c-fdd2-4d50-95c5-665065ca7ec0",
   "metadata": {},
   "outputs": [
    {
     "name": "stdout",
     "output_type": "stream",
     "text": [
      "[20, 24]\n"
     ]
    },
    {
     "data": {
      "text/plain": [
       "[20]"
      ]
     },
     "execution_count": 10,
     "metadata": {},
     "output_type": "execute_result"
    }
   ],
   "source": [
    "#Pop() removes the top element of stack when there are no arguments, otherwise the value at the index present.\n",
    "marks = [20,24,44]\n",
    "marks.pop()\n",
    "# print(marks)\n",
    "print(marks)\n",
    "marks.pop(1) #index , not the value\n",
    "marks"
   ]
  },
  {
   "cell_type": "code",
   "execution_count": 16,
   "id": "85b402fb-5e81-4e1f-b5a4-1bd42d185cff",
   "metadata": {},
   "outputs": [
    {
     "data": {
      "text/plain": [
       "['two', 'three', 'four', 'five']"
      ]
     },
     "execution_count": 16,
     "metadata": {},
     "output_type": "execute_result"
    }
   ],
   "source": [
    "#Del operator used to remove item based on index position, here only we can use ###slicing of lists .\n",
    "lst = ['one','two','three','four','five']\n",
    "del lst[0]\n",
    "lst"
   ]
  },
  {
   "cell_type": "code",
   "execution_count": 17,
   "id": "aaa9d26b-c5bf-47d3-b5c7-6fe48b00080f",
   "metadata": {},
   "outputs": [
    {
     "data": {
      "text/plain": [
       "['two', 'five']"
      ]
     },
     "execution_count": 17,
     "metadata": {},
     "output_type": "execute_result"
    }
   ],
   "source": [
    "del lst[1:3]\n",
    "lst"
   ]
  },
  {
   "cell_type": "code",
   "execution_count": 18,
   "id": "22f24b21-a27b-4ef9-933e-fc9f9f2065d7",
   "metadata": {},
   "outputs": [
    {
     "data": {
      "text/plain": [
       "[]"
      ]
     },
     "execution_count": 18,
     "metadata": {},
     "output_type": "execute_result"
    }
   ],
   "source": [
    "#Clear is used to convert the existing list into an empty list.\n",
    "a = [3,4,5]\n",
    "a.clear()\n",
    "a\n"
   ]
  },
  {
   "cell_type": "code",
   "execution_count": 9,
   "id": "f96ff451-a85e-4e1c-a1bf-5819406d0aed",
   "metadata": {},
   "outputs": [
    {
     "data": {
      "text/plain": [
       "[3, 2, 1]"
      ]
     },
     "execution_count": 9,
     "metadata": {},
     "output_type": "execute_result"
    }
   ],
   "source": [
    "#Some misc functions allowed in a list are : reverse(), sorted(), count(), copy(), index(), min(), max(), sum() \n",
    "list1 = [1,2,3]\n",
    "list1.reverse()\n",
    "list1\n"
   ]
  },
  {
   "cell_type": "code",
   "execution_count": 10,
   "id": "5d736a21-acaa-4511-bf59-ace206ef72f0",
   "metadata": {},
   "outputs": [
    {
     "data": {
      "text/plain": [
       "['c', 'b', 'a']"
      ]
     },
     "execution_count": 10,
     "metadata": {},
     "output_type": "execute_result"
    }
   ],
   "source": [
    "l1 = ['a','b','c']\n",
    "l1.reverse()\n",
    "l1"
   ]
  },
  {
   "cell_type": "code",
   "execution_count": 11,
   "id": "190b5720-47db-4270-afbe-f21ce9d262ae",
   "metadata": {},
   "outputs": [
    {
     "data": {
      "text/plain": [
       "[1, 5, 13, 21, 34]"
      ]
     },
     "execution_count": 11,
     "metadata": {},
     "output_type": "execute_result"
    }
   ],
   "source": [
    "#Sorted() can be used for both asc and desc order\n",
    "#Here the original list is not changed.\n",
    "#It can be done in two ways: using sorted() and sort()\n",
    "\n",
    "numbers = [1,21,13,34,5]\n",
    "sorted(numbers)\n"
   ]
  },
  {
   "cell_type": "code",
   "execution_count": 12,
   "id": "f4a31032-2672-453a-9071-a7a173511f66",
   "metadata": {},
   "outputs": [
    {
     "data": {
      "text/plain": [
       "[34, 21, 13, 5, 1]"
      ]
     },
     "execution_count": 12,
     "metadata": {},
     "output_type": "execute_result"
    }
   ],
   "source": [
    "sorted(numbers, reverse = True)"
   ]
  },
  {
   "cell_type": "code",
   "execution_count": 13,
   "id": "9299326c-29ce-4620-91ee-bed338755a57",
   "metadata": {},
   "outputs": [
    {
     "data": {
      "text/plain": [
       "[1, 5, 13, 21, 34]"
      ]
     },
     "execution_count": 13,
     "metadata": {},
     "output_type": "execute_result"
    }
   ],
   "source": [
    "numbers.sort()\n",
    "numbers"
   ]
  },
  {
   "cell_type": "code",
   "execution_count": 14,
   "id": "771143e9-909f-4aff-946f-375e62fbf18c",
   "metadata": {},
   "outputs": [
    {
     "data": {
      "text/plain": [
       "['a', 'b', 'c']"
      ]
     },
     "execution_count": 14,
     "metadata": {},
     "output_type": "execute_result"
    }
   ],
   "source": [
    "numbers = ['a','c','b']\n",
    "numbers.sort()\n",
    "numbers"
   ]
  },
  {
   "cell_type": "code",
   "execution_count": 15,
   "id": "666ced7a-dd4b-4c70-8c46-aed394521dc0",
   "metadata": {},
   "outputs": [
    {
     "data": {
      "text/plain": [
       "['c', 'b', 'a']"
      ]
     },
     "execution_count": 15,
     "metadata": {},
     "output_type": "execute_result"
    }
   ],
   "source": [
    "sorted(numbers, reverse = True)"
   ]
  },
  {
   "cell_type": "code",
   "execution_count": 1,
   "id": "aae74c3a-c98e-4c9b-af31-4677f54d3f09",
   "metadata": {},
   "outputs": [
    {
     "data": {
      "text/plain": [
       "2"
      ]
     },
     "execution_count": 1,
     "metadata": {},
     "output_type": "execute_result"
    }
   ],
   "source": [
    "numbers = [1,1,2,2,3]\n",
    "numbers.count(1)"
   ]
  },
  {
   "cell_type": "code",
   "execution_count": 3,
   "id": "b35f1a97-5236-47bf-91f9-d05538251ca6",
   "metadata": {},
   "outputs": [
    {
     "data": {
      "text/plain": [
       "2"
      ]
     },
     "execution_count": 3,
     "metadata": {},
     "output_type": "execute_result"
    }
   ],
   "source": [
    "numbers.index(2)\n",
    "#Returns index of first occurrence"
   ]
  },
  {
   "cell_type": "code",
   "execution_count": 4,
   "id": "9e7a7b39-44a1-4a9e-8bb4-0473a0de1807",
   "metadata": {},
   "outputs": [
    {
     "data": {
      "text/plain": [
       "[1, 2, 3, 4]"
      ]
     },
     "execution_count": 4,
     "metadata": {},
     "output_type": "execute_result"
    }
   ],
   "source": [
    "#Shallow Copy\n",
    "l1 = [1,2,3]\n",
    "l2 = l1\n",
    "l2.append(4)\n",
    "l1"
   ]
  },
  {
   "cell_type": "code",
   "execution_count": 2,
   "id": "4b2df4ba-95f9-4c14-aa95-c23d3c9111dc",
   "metadata": {},
   "outputs": [
    {
     "name": "stdout",
     "output_type": "stream",
     "text": [
      "[2, 3, 4]\n",
      "[2, 3, 4, 5]\n"
     ]
    }
   ],
   "source": [
    "#Deep copy\n",
    "l1 = [2,3,4]\n",
    "l2 = l1.copy()\n",
    "l2.append(5)\n",
    "print(l1)\n",
    "print(l2)"
   ]
  },
  {
   "cell_type": "code",
   "execution_count": 1,
   "id": "3a9b7989-ae61-4df1-b533-3a2cf7672336",
   "metadata": {},
   "outputs": [
    {
     "data": {
      "text/plain": [
       "()"
      ]
     },
     "execution_count": 1,
     "metadata": {},
     "output_type": "execute_result"
    }
   ],
   "source": [
    "tup = ()\n",
    "tup\n",
    "\n"
   ]
  },
  {
   "cell_type": "code",
   "execution_count": 2,
   "id": "b9396dd8-8565-44d9-bcc1-54dc32d26743",
   "metadata": {},
   "outputs": [],
   "source": [
    "tup1 = (1,2,3,'a')\n",
    "del tup1"
   ]
  },
  {
   "cell_type": "code",
   "execution_count": 3,
   "id": "2e87c203-5f20-4d31-b6bc-317562087118",
   "metadata": {},
   "outputs": [
    {
     "ename": "NameError",
     "evalue": "name 'tup1' is not defined",
     "output_type": "error",
     "traceback": [
      "\u001b[1;31m---------------------------------------------------------------------------\u001b[0m",
      "\u001b[1;31mNameError\u001b[0m                                 Traceback (most recent call last)",
      "Cell \u001b[1;32mIn[3], line 1\u001b[0m\n\u001b[1;32m----> 1\u001b[0m tup1\n",
      "\u001b[1;31mNameError\u001b[0m: name 'tup1' is not defined"
     ]
    }
   ],
   "source": [
    "tup1"
   ]
  },
  {
   "cell_type": "code",
   "execution_count": 4,
   "id": "9b580c2d-0d35-47cb-a6c1-d2adf4a0559b",
   "metadata": {},
   "outputs": [
    {
     "data": {
      "text/plain": [
       "2"
      ]
     },
     "execution_count": 4,
     "metadata": {},
     "output_type": "execute_result"
    }
   ],
   "source": [
    "tup1 = ('bighna',1,2,2,1,3)\n",
    "tup1.count(1)"
   ]
  },
  {
   "cell_type": "code",
   "execution_count": 5,
   "id": "0809d5f3-d72d-4fcf-9005-771afe733d98",
   "metadata": {},
   "outputs": [
    {
     "data": {
      "text/plain": [
       "2"
      ]
     },
     "execution_count": 5,
     "metadata": {},
     "output_type": "execute_result"
    }
   ],
   "source": [
    "tup1.index(2)"
   ]
  },
  {
   "cell_type": "code",
   "execution_count": 6,
   "id": "0eea8343-6916-4869-9dfc-e81a7500537a",
   "metadata": {},
   "outputs": [
    {
     "ename": "TypeError",
     "evalue": "'<' not supported between instances of 'int' and 'str'",
     "output_type": "error",
     "traceback": [
      "\u001b[1;31m---------------------------------------------------------------------------\u001b[0m",
      "\u001b[1;31mTypeError\u001b[0m                                 Traceback (most recent call last)",
      "Cell \u001b[1;32mIn[6], line 1\u001b[0m\n\u001b[1;32m----> 1\u001b[0m \u001b[38;5;28msorted\u001b[39m(tup1)\n",
      "\u001b[1;31mTypeError\u001b[0m: '<' not supported between instances of 'int' and 'str'"
     ]
    }
   ],
   "source": [
    "sorted(tup1)"
   ]
  },
  {
   "cell_type": "code",
   "execution_count": 7,
   "id": "a231ded1-6fd0-4ba2-b409-8ffc42a0926c",
   "metadata": {},
   "outputs": [
    {
     "data": {
      "text/plain": [
       "True"
      ]
     },
     "execution_count": 7,
     "metadata": {},
     "output_type": "execute_result"
    }
   ],
   "source": [
    "#Tuple membership which is in operator\n",
    "'bighna' in tup1"
   ]
  },
  {
   "cell_type": "code",
   "execution_count": 8,
   "id": "ab1fde12-3d2d-4a65-bdcc-72f5599fd477",
   "metadata": {},
   "outputs": [
    {
     "data": {
      "text/plain": [
       "set()"
      ]
     },
     "execution_count": 8,
     "metadata": {},
     "output_type": "execute_result"
    }
   ],
   "source": [
    "'''\n",
    "Sets --> unordered collection of items, does not support multiple datatypes, no duplicates\n",
    "For adding elements : we have add, update, \n",
    "For deleting elements : we have discard, remove, pop, delete, clear\n",
    "Set operations are union, intersection, difference, difference_update, symmetric_difference, symmetric_difference_update, issubset(), issuperset(),\n",
    "isdisjoint()\n",
    "'''\n",
    "\n",
    "s = set()\n",
    "s"
   ]
  },
  {
   "cell_type": "code",
   "execution_count": 9,
   "id": "f9441acd-a4b7-418a-9bc0-54ddf4b8db35",
   "metadata": {},
   "outputs": [],
   "source": [
    "s.add(3)\n",
    "s.add('a')\n"
   ]
  },
  {
   "cell_type": "code",
   "execution_count": 10,
   "id": "ab18debb-a3f3-4522-9e78-e217dddeb02b",
   "metadata": {},
   "outputs": [
    {
     "data": {
      "text/plain": [
       "{3, 'a'}"
      ]
     },
     "execution_count": 10,
     "metadata": {},
     "output_type": "execute_result"
    }
   ],
   "source": [
    "s\n"
   ]
  },
  {
   "cell_type": "code",
   "execution_count": 11,
   "id": "047142c8-3dbf-4d62-a410-ab9882f63645",
   "metadata": {},
   "outputs": [
    {
     "data": {
      "text/plain": [
       "{1, 2, 3}"
      ]
     },
     "execution_count": 11,
     "metadata": {},
     "output_type": "execute_result"
    }
   ],
   "source": [
    "s1 = {2,3,1}\n",
    "s1"
   ]
  },
  {
   "cell_type": "code",
   "execution_count": 12,
   "id": "f3e404b1-8f5d-4638-8a43-05d50694d5be",
   "metadata": {},
   "outputs": [],
   "source": [
    "s.update([1,2,3])"
   ]
  },
  {
   "cell_type": "code",
   "execution_count": 13,
   "id": "59f4a166-f47d-4b38-9ad7-30df8cf252d4",
   "metadata": {},
   "outputs": [
    {
     "data": {
      "text/plain": [
       "{1, 2, 3, 'a'}"
      ]
     },
     "execution_count": 13,
     "metadata": {},
     "output_type": "execute_result"
    }
   ],
   "source": [
    "s"
   ]
  },
  {
   "cell_type": "code",
   "execution_count": 14,
   "id": "11ceaee7-1e75-4dec-ad0a-da34f687dbad",
   "metadata": {},
   "outputs": [],
   "source": [
    "s.update([6,1,2],(3,4,5))"
   ]
  },
  {
   "cell_type": "code",
   "execution_count": 18,
   "id": "850fe917-24d7-4aaa-a20d-01670dfad118",
   "metadata": {},
   "outputs": [],
   "source": [
    "s.discard('a')"
   ]
  },
  {
   "cell_type": "code",
   "execution_count": 19,
   "id": "d8972977-1691-4689-8e78-4a13faf6f040",
   "metadata": {},
   "outputs": [
    {
     "data": {
      "text/plain": [
       "{1, 2, 3, 4, 5, 6}"
      ]
     },
     "execution_count": 19,
     "metadata": {},
     "output_type": "execute_result"
    }
   ],
   "source": [
    "s"
   ]
  },
  {
   "cell_type": "code",
   "execution_count": 20,
   "id": "1e14eaa7-1bb6-4e20-bee2-b50677dd285f",
   "metadata": {},
   "outputs": [
    {
     "ename": "KeyError",
     "evalue": "7",
     "output_type": "error",
     "traceback": [
      "\u001b[1;31m---------------------------------------------------------------------------\u001b[0m",
      "\u001b[1;31mKeyError\u001b[0m                                  Traceback (most recent call last)",
      "Cell \u001b[1;32mIn[20], line 1\u001b[0m\n\u001b[1;32m----> 1\u001b[0m s\u001b[38;5;241m.\u001b[39mremove(\u001b[38;5;241m7\u001b[39m)\n",
      "\u001b[1;31mKeyError\u001b[0m: 7"
     ]
    }
   ],
   "source": [
    "s.remove(7)"
   ]
  },
  {
   "cell_type": "code",
   "execution_count": 21,
   "id": "093b7389-f972-4e88-a266-27bb227b9d6f",
   "metadata": {},
   "outputs": [],
   "source": [
    "s.discard(7)"
   ]
  },
  {
   "cell_type": "code",
   "execution_count": 22,
   "id": "bc1efd62-c2bf-4d20-b0a3-5dd3100aa3ca",
   "metadata": {},
   "outputs": [
    {
     "data": {
      "text/plain": [
       "{1, 2, 3, 4, 5, 6}"
      ]
     },
     "execution_count": 22,
     "metadata": {},
     "output_type": "execute_result"
    }
   ],
   "source": [
    "s"
   ]
  },
  {
   "cell_type": "code",
   "execution_count": 23,
   "id": "3141db55-9035-4200-8a02-2b94b3b8fb3f",
   "metadata": {},
   "outputs": [
    {
     "data": {
      "text/plain": [
       "{1, 2, 3, 4, 5}"
      ]
     },
     "execution_count": 23,
     "metadata": {},
     "output_type": "execute_result"
    }
   ],
   "source": [
    "#Shallow copy\n",
    "s1 = {1,2,3,4}\n",
    "s2 = s1\n",
    "s2.add(5)\n",
    "s2"
   ]
  },
  {
   "cell_type": "code",
   "execution_count": 24,
   "id": "5599a83c-a7c9-4b09-a7f7-09b27f51078f",
   "metadata": {},
   "outputs": [
    {
     "data": {
      "text/plain": [
       "{1, 2, 3, 4, 5}"
      ]
     },
     "execution_count": 24,
     "metadata": {},
     "output_type": "execute_result"
    }
   ],
   "source": [
    "s1"
   ]
  },
  {
   "cell_type": "code",
   "execution_count": 25,
   "id": "1c39a417-e31d-45ee-b8de-ad41e18654a4",
   "metadata": {},
   "outputs": [
    {
     "name": "stdout",
     "output_type": "stream",
     "text": [
      "{1, 2, 3, 4, 5, 6}\n",
      "{1, 2, 3, 4, 5}\n"
     ]
    }
   ],
   "source": [
    "#Deep copy\n",
    "s3 = s1.copy()\n",
    "s3.add(6)\n",
    "print(s3)\n",
    "print(s1)"
   ]
  },
  {
   "cell_type": "code",
   "execution_count": 27,
   "id": "ed42ec04-cada-4baf-8599-e2a1832e3309",
   "metadata": {},
   "outputs": [
    {
     "data": {
      "text/plain": [
       "{1, 2, 'bighna', 'rama', 'shyam'}"
      ]
     },
     "execution_count": 27,
     "metadata": {},
     "output_type": "execute_result"
    }
   ],
   "source": [
    "s = {'rama', 'shyam', 'bighna',1,2,2}\n",
    "s"
   ]
  },
  {
   "cell_type": "code",
   "execution_count": 28,
   "id": "09e36ec9-263c-4c3a-8f79-5573a9ad331d",
   "metadata": {},
   "outputs": [
    {
     "data": {
      "text/plain": [
       "1"
      ]
     },
     "execution_count": 28,
     "metadata": {},
     "output_type": "execute_result"
    }
   ],
   "source": [
    "s.pop()"
   ]
  },
  {
   "cell_type": "code",
   "execution_count": 29,
   "id": "b7436798-da7f-4328-bb8c-1150b40f9bea",
   "metadata": {},
   "outputs": [
    {
     "data": {
      "text/plain": [
       "{2, 'bighna', 'rama', 'shyam'}"
      ]
     },
     "execution_count": 29,
     "metadata": {},
     "output_type": "execute_result"
    }
   ],
   "source": [
    "s"
   ]
  },
  {
   "cell_type": "code",
   "execution_count": 30,
   "id": "a477aafe-196d-46e0-b6ed-930a9af4a13c",
   "metadata": {},
   "outputs": [
    {
     "data": {
      "text/plain": [
       "{2, 3, 4, 7, 'rama', 'siva'}"
      ]
     },
     "execution_count": 30,
     "metadata": {},
     "output_type": "execute_result"
    }
   ],
   "source": [
    "s = {2,2,3,3,7,4,'siva','rama'}\n",
    "s"
   ]
  },
  {
   "cell_type": "code",
   "execution_count": 31,
   "id": "00e83feb-bfd1-4bec-b70f-54c7a773a240",
   "metadata": {},
   "outputs": [
    {
     "data": {
      "text/plain": [
       "2"
      ]
     },
     "execution_count": 31,
     "metadata": {},
     "output_type": "execute_result"
    }
   ],
   "source": [
    "s.pop()"
   ]
  },
  {
   "cell_type": "code",
   "execution_count": 32,
   "id": "0547693e-3b69-4d2c-b145-688c2657d7c7",
   "metadata": {},
   "outputs": [
    {
     "data": {
      "text/plain": [
       "{3, 4, 7, 'rama', 'siva'}"
      ]
     },
     "execution_count": 32,
     "metadata": {},
     "output_type": "execute_result"
    }
   ],
   "source": [
    "s\n"
   ]
  },
  {
   "cell_type": "code",
   "execution_count": 33,
   "id": "81d0fe61-16f8-4218-8db6-782890841381",
   "metadata": {},
   "outputs": [
    {
     "ename": "TypeError",
     "evalue": "set.pop() takes no arguments (1 given)",
     "output_type": "error",
     "traceback": [
      "\u001b[1;31m---------------------------------------------------------------------------\u001b[0m",
      "\u001b[1;31mTypeError\u001b[0m                                 Traceback (most recent call last)",
      "Cell \u001b[1;32mIn[33], line 1\u001b[0m\n\u001b[1;32m----> 1\u001b[0m s\u001b[38;5;241m.\u001b[39mpop(\u001b[38;5;241m2\u001b[39m)\n",
      "\u001b[1;31mTypeError\u001b[0m: set.pop() takes no arguments (1 given)"
     ]
    }
   ],
   "source": [
    "s.pop(2)"
   ]
  },
  {
   "cell_type": "code",
   "execution_count": 34,
   "id": "304601a2-501f-4887-945c-04db52deef34",
   "metadata": {},
   "outputs": [],
   "source": [
    "s = {1,2,3,4,5}\n",
    "del s"
   ]
  },
  {
   "cell_type": "code",
   "execution_count": 35,
   "id": "a630bfdb-acea-4095-b7d1-a37d0f853105",
   "metadata": {},
   "outputs": [
    {
     "ename": "NameError",
     "evalue": "name 's' is not defined",
     "output_type": "error",
     "traceback": [
      "\u001b[1;31m---------------------------------------------------------------------------\u001b[0m",
      "\u001b[1;31mNameError\u001b[0m                                 Traceback (most recent call last)",
      "Cell \u001b[1;32mIn[35], line 1\u001b[0m\n\u001b[1;32m----> 1\u001b[0m s\n",
      "\u001b[1;31mNameError\u001b[0m: name 's' is not defined"
     ]
    }
   ],
   "source": [
    "s"
   ]
  },
  {
   "cell_type": "code",
   "execution_count": 36,
   "id": "ed0676d6-ccb6-4059-97bf-4a3a6a35c67f",
   "metadata": {},
   "outputs": [
    {
     "data": {
      "text/plain": [
       "{6}"
      ]
     },
     "execution_count": 36,
     "metadata": {},
     "output_type": "execute_result"
    }
   ],
   "source": [
    "s1 = set()\n",
    "s1.add(6)\n",
    "s1\n"
   ]
  },
  {
   "cell_type": "code",
   "execution_count": 37,
   "id": "4630737e-9aa6-49eb-9665-49589baac4da",
   "metadata": {},
   "outputs": [],
   "source": [
    "s1.clear()\n"
   ]
  },
  {
   "cell_type": "code",
   "execution_count": 38,
   "id": "3be46d93-0e18-4e54-aff8-b53ac9742bcf",
   "metadata": {},
   "outputs": [
    {
     "data": {
      "text/plain": [
       "set()"
      ]
     },
     "execution_count": 38,
     "metadata": {},
     "output_type": "execute_result"
    }
   ],
   "source": [
    "s1"
   ]
  },
  {
   "cell_type": "code",
   "execution_count": 42,
   "id": "a47c396e-1eb1-4be2-b16b-9c0f21e80e9c",
   "metadata": {},
   "outputs": [
    {
     "name": "stdout",
     "output_type": "stream",
     "text": [
      "{1, 2, 3, 4, 5, 6}\n",
      "{3, 4}\n",
      "{1, 2}\n",
      "{1, 2, 5, 6}\n"
     ]
    }
   ],
   "source": [
    "#Set operations : \n",
    "set1 = {1,2,3,4}\n",
    "set2 = {3,4,5,6}\n",
    "union = set1 | set2\n",
    "intersection = set1 & set2\n",
    "difference = set1 - set2\n",
    "symmetric_difference = set1 ^ set2\n",
    "print(union)\n",
    "print(intersection)\n",
    "print(difference)\n",
    "print(symmetric_difference)"
   ]
  },
  {
   "cell_type": "code",
   "execution_count": 43,
   "id": "fcf02e07-4b78-4da4-b41b-b2b2e4443aad",
   "metadata": {},
   "outputs": [
    {
     "data": {
      "text/plain": [
       "{1, 2, 3, 4}"
      ]
     },
     "execution_count": 43,
     "metadata": {},
     "output_type": "execute_result"
    }
   ],
   "source": [
    "set1"
   ]
  },
  {
   "cell_type": "code",
   "execution_count": 45,
   "id": "ec2036a8-bfe6-40f8-9e7e-6816c6d239ec",
   "metadata": {},
   "outputs": [
    {
     "data": {
      "text/plain": [
       "True"
      ]
     },
     "execution_count": 45,
     "metadata": {},
     "output_type": "execute_result"
    }
   ],
   "source": [
    "c = {1,2,3}\n",
    "d = {1,3,4,2}\n",
    "c.issubset(d)"
   ]
  },
  {
   "cell_type": "code",
   "execution_count": 48,
   "id": "09509c21-164c-4d25-bb07-9f63bfd76dee",
   "metadata": {},
   "outputs": [
    {
     "data": {
      "text/plain": [
       "True"
      ]
     },
     "execution_count": 48,
     "metadata": {},
     "output_type": "execute_result"
    }
   ],
   "source": [
    "d.issuperset(c)"
   ]
  },
  {
   "cell_type": "code",
   "execution_count": 49,
   "id": "bbe5f5df-799c-40a0-b1c5-352d97627b7b",
   "metadata": {},
   "outputs": [
    {
     "data": {
      "text/plain": [
       "True"
      ]
     },
     "execution_count": 49,
     "metadata": {},
     "output_type": "execute_result"
    }
   ],
   "source": [
    "s1 = {1,2,3}\n",
    "s2 = {4,5}\n",
    "s1.isdisjoint(s2)"
   ]
  },
  {
   "cell_type": "code",
   "execution_count": 50,
   "id": "a14e5f18-b0dd-4be7-8765-77f59d992765",
   "metadata": {},
   "outputs": [
    {
     "data": {
      "text/plain": [
       "False"
      ]
     },
     "execution_count": 50,
     "metadata": {},
     "output_type": "execute_result"
    }
   ],
   "source": [
    "c.isdisjoint(d)"
   ]
  },
  {
   "cell_type": "code",
   "execution_count": 1,
   "id": "d2703014-d08b-4ca0-bf49-df8e84d5b48e",
   "metadata": {},
   "outputs": [
    {
     "data": {
      "text/plain": [
       "{}"
      ]
     },
     "execution_count": 1,
     "metadata": {},
     "output_type": "execute_result"
    }
   ],
   "source": [
    "#Dictionaries\n",
    "dict = {}\n",
    "dict"
   ]
  },
  {
   "cell_type": "code",
   "execution_count": 42,
   "id": "fc15107d-c8a1-44e8-af48-60190a33285d",
   "metadata": {},
   "outputs": [
    {
     "data": {
      "text/plain": [
       "{}"
      ]
     },
     "execution_count": 42,
     "metadata": {},
     "output_type": "execute_result"
    }
   ],
   "source": [
    "dict1 = dict()\n",
    "dict1"
   ]
  },
  {
   "cell_type": "code",
   "execution_count": 43,
   "id": "616e093c-a801-4a88-a00c-98a41b0aba98",
   "metadata": {},
   "outputs": [],
   "source": [
    "dict1.update({'key1' : 32, 'key2' : 34, 'key3' : 45})"
   ]
  },
  {
   "cell_type": "code",
   "execution_count": 44,
   "id": "ed04aba5-e35e-45cd-ad32-e8666aefba10",
   "metadata": {},
   "outputs": [
    {
     "data": {
      "text/plain": [
       "{'key1': 32, 'key2': 34, 'key3': 45}"
      ]
     },
     "execution_count": 44,
     "metadata": {},
     "output_type": "execute_result"
    }
   ],
   "source": [
    "dict1"
   ]
  },
  {
   "cell_type": "code",
   "execution_count": 45,
   "id": "2f0ab188-4cc8-46b1-8517-8f3a5240c30f",
   "metadata": {},
   "outputs": [
    {
     "data": {
      "text/plain": [
       "dict_keys(['key1', 'key2', 'key3'])"
      ]
     },
     "execution_count": 45,
     "metadata": {},
     "output_type": "execute_result"
    }
   ],
   "source": [
    "#Mainly we have 3 basic methods to find keys, values, and items in the whole dictionary\n",
    "dict1.keys()"
   ]
  },
  {
   "cell_type": "code",
   "execution_count": 46,
   "id": "aea854bc-601d-4d2c-bf94-8fa87152e67c",
   "metadata": {},
   "outputs": [
    {
     "data": {
      "text/plain": [
       "dict_values([32, 34, 45])"
      ]
     },
     "execution_count": 46,
     "metadata": {},
     "output_type": "execute_result"
    }
   ],
   "source": [
    "dict1.values()"
   ]
  },
  {
   "cell_type": "code",
   "execution_count": 47,
   "id": "fb61e880-160c-4107-a310-03e78aa28fe4",
   "metadata": {},
   "outputs": [
    {
     "data": {
      "text/plain": [
       "dict_items([('key1', 32), ('key2', 34), ('key3', 45)])"
      ]
     },
     "execution_count": 47,
     "metadata": {},
     "output_type": "execute_result"
    }
   ],
   "source": [
    "dict1.items()"
   ]
  },
  {
   "cell_type": "code",
   "execution_count": 48,
   "id": "d936e4b9-c2ea-4ff3-b090-5827c274a310",
   "metadata": {},
   "outputs": [
    {
     "data": {
      "text/plain": [
       "32"
      ]
     },
     "execution_count": 48,
     "metadata": {},
     "output_type": "execute_result"
    }
   ],
   "source": [
    "#To delete any element we use pop() method or del operator\n",
    "dict1.pop('key1')"
   ]
  },
  {
   "cell_type": "code",
   "execution_count": 49,
   "id": "adb4ec82-f2d3-4a53-9709-041109812f20",
   "metadata": {},
   "outputs": [
    {
     "data": {
      "text/plain": [
       "{'key2': 34, 'key3': 45}"
      ]
     },
     "execution_count": 49,
     "metadata": {},
     "output_type": "execute_result"
    }
   ],
   "source": [
    "dict1"
   ]
  },
  {
   "cell_type": "code",
   "execution_count": 50,
   "id": "260cb2ed-0d4e-4933-ad9d-17b8eee4ff97",
   "metadata": {},
   "outputs": [],
   "source": [
    "#For adding a single element or updating the values inside the key, we use assignment operator\n",
    "dict1['key4'] = 36"
   ]
  },
  {
   "cell_type": "code",
   "execution_count": 51,
   "id": "a66d4816-b40c-4af5-bfd3-bd9df194c87f",
   "metadata": {},
   "outputs": [
    {
     "data": {
      "text/plain": [
       "{'key2': 34, 'key3': 45, 'key4': 36}"
      ]
     },
     "execution_count": 51,
     "metadata": {},
     "output_type": "execute_result"
    }
   ],
   "source": [
    "dict1\n"
   ]
  },
  {
   "cell_type": "code",
   "execution_count": 52,
   "id": "d3868354-7927-4009-ab08-04af84642203",
   "metadata": {},
   "outputs": [],
   "source": [
    "#For updating value of key2 to 46, we can use the same assignment operator.\n",
    "dict1['key2'] = 46"
   ]
  },
  {
   "cell_type": "code",
   "execution_count": 53,
   "id": "f0acdea5-b285-4d2f-9e7c-c5dbd3410785",
   "metadata": {},
   "outputs": [
    {
     "data": {
      "text/plain": [
       "{'key2': 46, 'key3': 45, 'key4': 36}"
      ]
     },
     "execution_count": 53,
     "metadata": {},
     "output_type": "execute_result"
    }
   ],
   "source": [
    "dict1"
   ]
  },
  {
   "cell_type": "code",
   "execution_count": 54,
   "id": "d7f041ad-3d03-4919-81f1-5435c51bc2c0",
   "metadata": {},
   "outputs": [],
   "source": [
    "#Nested Dictionary\n",
    "student1 = {'name' : 'Bighnaraj', 'ID': 19}\n",
    "student2 = {'name' : 'Asmit', 'ID': 24}\n",
    "student3 = {'name' : 'Amrit', 'ID': 35}\n",
    "stud_dictionary = {'first' : student1, 'second' : student2, 'third' : student3}"
   ]
  },
  {
   "cell_type": "code",
   "execution_count": 55,
   "id": "cb917c7c-972d-479f-8ca9-674ceeac95d9",
   "metadata": {},
   "outputs": [
    {
     "data": {
      "text/plain": [
       "{'first': {'name': 'Bighnaraj', 'ID': 19},\n",
       " 'second': {'name': 'Asmit', 'ID': 24},\n",
       " 'third': {'name': 'Amrit', 'ID': 35}}"
      ]
     },
     "execution_count": 55,
     "metadata": {},
     "output_type": "execute_result"
    }
   ],
   "source": [
    "stud_dictionary"
   ]
  },
  {
   "cell_type": "code",
   "execution_count": 56,
   "id": "2dfa70b3-3109-438e-9f8b-961a6adee180",
   "metadata": {},
   "outputs": [
    {
     "data": {
      "text/plain": [
       "9"
      ]
     },
     "execution_count": 56,
     "metadata": {},
     "output_type": "execute_result"
    }
   ],
   "source": [
    "#If we have a list inside a dictionary, we can access through indexing \n",
    "dict3 = {'key1' : {1,2,3},\n",
    "         'key2' : [3,9,1],\n",
    "         'key3' : (67,12,33)\n",
    "        }\n",
    "dict3['key2'][1]\n",
    "\n"
   ]
  },
  {
   "cell_type": "code",
   "execution_count": 61,
   "id": "e6a2c71b-0ce6-4349-9a2f-7692b3a5f61f",
   "metadata": {},
   "outputs": [
    {
     "ename": "KeyError",
     "evalue": "'e'",
     "output_type": "error",
     "traceback": [
      "\u001b[1;31m---------------------------------------------------------------------------\u001b[0m",
      "\u001b[1;31mKeyError\u001b[0m                                  Traceback (most recent call last)",
      "Cell \u001b[1;32mIn[61], line 2\u001b[0m\n\u001b[0;32m      1\u001b[0m \u001b[38;5;66;03m#This gives error as it is taking key2[1] as 'e' , so we can use del here\u001b[39;00m\n\u001b[1;32m----> 2\u001b[0m dict3\u001b[38;5;241m.\u001b[39mpop(\u001b[38;5;124m'\u001b[39m\u001b[38;5;124mkey2\u001b[39m\u001b[38;5;124m'\u001b[39m[\u001b[38;5;241m1\u001b[39m])\n",
      "\u001b[1;31mKeyError\u001b[0m: 'e'"
     ]
    }
   ],
   "source": [
    "#This gives error as it is taking key2[1] as 'e' , so we can use del here\n",
    "dict3.pop('key2'[1])"
   ]
  },
  {
   "cell_type": "code",
   "execution_count": 62,
   "id": "be23f603-8b23-48ae-a0ce-7718a54102c0",
   "metadata": {},
   "outputs": [],
   "source": [
    "del dict3['key2'][1]"
   ]
  },
  {
   "cell_type": "code",
   "execution_count": 63,
   "id": "3e10c70c-c48a-43f4-a872-37cbc3a1233e",
   "metadata": {},
   "outputs": [
    {
     "data": {
      "text/plain": [
       "{'key1': {1, 2, 3}, 'key2': [3, 1], 'key3': (67, 12, 33)}"
      ]
     },
     "execution_count": 63,
     "metadata": {},
     "output_type": "execute_result"
    }
   ],
   "source": [
    "dict3"
   ]
  },
  {
   "cell_type": "code",
   "execution_count": null,
   "id": "74acd187-ba27-464d-914b-c8ce61821fe6",
   "metadata": {},
   "outputs": [],
   "source": []
  }
 ],
 "metadata": {
  "kernelspec": {
   "display_name": "Python 3 (ipykernel)",
   "language": "python",
   "name": "python3"
  },
  "language_info": {
   "codemirror_mode": {
    "name": "ipython",
    "version": 3
   },
   "file_extension": ".py",
   "mimetype": "text/x-python",
   "name": "python",
   "nbconvert_exporter": "python",
   "pygments_lexer": "ipython3",
   "version": "3.11.7"
  }
 },
 "nbformat": 4,
 "nbformat_minor": 5
}
