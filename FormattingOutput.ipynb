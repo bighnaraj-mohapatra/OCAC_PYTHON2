{
 "cells": [
  {
   "cell_type": "code",
   "execution_count": 1,
   "id": "c4fc75d7-d925-44cd-9ab5-8e8fb64964ea",
   "metadata": {},
   "outputs": [
    {
     "name": "stdout",
     "output_type": "stream",
     "text": [
      "Time is : 3 hours 4 minutes 5 seconds \n"
     ]
    }
   ],
   "source": [
    "hours = 3\n",
    "min = 4\n",
    "sec = 5\n",
    "print(\"Time is : {} hours {} minutes {} seconds \".format(hours, min, sec))  "
   ]
  },
  {
   "cell_type": "code",
   "execution_count": 2,
   "id": "67585008-5a6d-446f-aa5d-0c1c7bbd9e84",
   "metadata": {},
   "outputs": [
    {
     "name": "stdout",
     "output_type": "stream",
     "text": [
      "5:6:7\n"
     ]
    }
   ],
   "source": [
    "a = 5\n",
    "b = 6\n",
    "c = 7\n",
    "print(a,b,c,sep = \":\")"
   ]
  },
  {
   "cell_type": "code",
   "execution_count": 3,
   "id": "127604b2-06e0-4151-8e1f-169061e35d6d",
   "metadata": {},
   "outputs": [
    {
     "name": "stdout",
     "output_type": "stream",
     "text": [
      "My first name is : Bighnaraj and last name is : Mohapatra\n"
     ]
    }
   ],
   "source": [
    "firstName = \"Bighnaraj\"\n",
    "lastName = \"Mohapatra\"\n",
    "print(\"My first name is : {first} and last name is : {second}\".format(first= firstName, second = lastName))"
   ]
  },
  {
   "cell_type": "code",
   "execution_count": 4,
   "id": "f1d89865-8f24-4fd8-a114-450e6b088b5a",
   "metadata": {},
   "outputs": [
    {
     "name": "stdout",
     "output_type": "stream",
     "text": [
      "My name is Bighnaraj and I am pursuing BTech programme in IT\n"
     ]
    }
   ],
   "source": [
    "#Combining positional arguments and keyword arguments\n",
    "print(\"My name is {} and I am pursuing {} programme in {branch}\".format('Bighnaraj','BTech',branch = 'IT'))"
   ]
  },
  {
   "cell_type": "code",
   "execution_count": 5,
   "id": "7825dcf0-926d-416d-b998-00ac04d72d06",
   "metadata": {},
   "outputs": [
    {
     "name": "stdin",
     "output_type": "stream",
     "text": [
      "Enter first number :  3\n",
      "Enter second number :  4\n"
     ]
    },
    {
     "name": "stdout",
     "output_type": "stream",
     "text": [
      "Sum = 7, Difference = -1, Multiplication = 12, Division = 0.75\n"
     ]
    }
   ],
   "source": [
    "# Taking two numbers as input and performing arithmetic operations on these.\n",
    "a = int(input(\"Enter first number : \"))\n",
    "b = int(input(\"Enter second number : \"))\n",
    "sum = a+b\n",
    "diff = a-b\n",
    "mul = a*b\n",
    "div = a/b\n",
    "print(\"Sum = {}, Difference = {}, Multiplication = {}, Division = {}\".format(sum, diff, mul, div))"
   ]
  },
  {
   "cell_type": "code",
   "execution_count": 6,
   "id": "6a0e670d-7bf3-4132-a347-a87ac27d164d",
   "metadata": {},
   "outputs": [
    {
     "name": "stdout",
     "output_type": "stream",
     "text": [
      "I am Bighnaraj bearing ID : 19 having height as 176.400000\n"
     ]
    }
   ],
   "source": [
    "#Padding and precision format\n",
    "name = \"Bighnaraj\"\n",
    "id = 19\n",
    "height = 176.4\n",
    "print(\"I am %s bearing ID : %d having height as %f\" % (name, id, height))"
   ]
  },
  {
   "cell_type": "code",
   "execution_count": 7,
   "id": "9502b17e-0ac4-42cc-9910-0faa7b8c2d90",
   "metadata": {},
   "outputs": [
    {
     "name": "stdout",
     "output_type": "stream",
     "text": [
      "I am Bighnaraj bearing ID : 19 and my height is    176.40 cm\n"
     ]
    }
   ],
   "source": [
    "#Padding and precision format\n",
    "name = \"Bighnaraj\"\n",
    "id = 19\n",
    "height = 176.4\n",
    "print(\"I am %s bearing ID : %d and my height is %9.2f cm\" % (name, id, height)) #9 hauchi total digits so space, 2 is precision (digits after decimal) "
   ]
  },
  {
   "cell_type": "code",
   "execution_count": 8,
   "id": "3754b0e7-8e32-4bc2-808f-790b31fe3a4a",
   "metadata": {},
   "outputs": [
    {
     "name": "stdout",
     "output_type": "stream",
     "text": [
      " Name |  ID   | Height | College \n",
      " Bighnaraj | 19  | 176.4 | IIIT \n"
     ]
    }
   ],
   "source": [
    "#Formatting output separated by multiple bars : dot format ra hi extension where < : left align with 10 spaces, center align au right align\n",
    "print(\" {0:<3} | {1: ^5} | {2: ^3} | {3: >3} \".format('Name','ID','Height','College'))\n",
    "print(\" {0:<3} | {1: ^3} | {2: ^3} | {3: >3} \".format(name, id, height, 'IIIT')) "
   ]
  },
  {
   "cell_type": "code",
   "execution_count": 9,
   "id": "1209c391-0678-4d0f-974e-e4c2dab55016",
   "metadata": {},
   "outputs": [
    {
     "name": "stdout",
     "output_type": "stream",
     "text": [
      "Good afternoon everyone !\n"
     ]
    }
   ],
   "source": [
    "#Use of f-strings for formatting string literals \n",
    "welcome = \"Good afternoon\"\n",
    "print(f\"{welcome} everyone !\")"
   ]
  }
 ],
 "metadata": {
  "kernelspec": {
   "display_name": "Python 3 (ipykernel)",
   "language": "python",
   "name": "python3"
  },
  "language_info": {
   "codemirror_mode": {
    "name": "ipython",
    "version": 3
   },
   "file_extension": ".py",
   "mimetype": "text/x-python",
   "name": "python",
   "nbconvert_exporter": "python",
   "pygments_lexer": "ipython3",
   "version": "3.11.7"
  }
 },
 "nbformat": 4,
 "nbformat_minor": 5
}
