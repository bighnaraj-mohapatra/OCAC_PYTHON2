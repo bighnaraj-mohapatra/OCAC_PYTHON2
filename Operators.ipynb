{
 "cells": [
  {
   "cell_type": "code",
   "execution_count": 3,
   "id": "1eacaca4-fd62-4067-aa6e-c926d8707281",
   "metadata": {},
   "outputs": [
    {
     "data": {
      "text/plain": [
       "28"
      ]
     },
     "execution_count": 3,
     "metadata": {},
     "output_type": "execute_result"
    }
   ],
   "source": [
    "#Arithmetic Operators\n",
    "#Paranthesis\n",
    "(2 + 12 ) * (9 // 4)"
   ]
  },
  {
   "cell_type": "code",
   "execution_count": 5,
   "id": "fcbb4ba2-ce1c-4927-8ffa-cc4296fa5b8a",
   "metadata": {},
   "outputs": [
    {
     "name": "stdout",
     "output_type": "stream",
     "text": [
      "Addition : 6, Subtraction: -2, Multiplication: 8, Exact_Division: 0.5, Floor_Division: 0, Power: 16, Modulus: 2\n"
     ]
    }
   ],
   "source": [
    "num1 = 2\n",
    "num2 = 4\n",
    "add = num1+num2\n",
    "difference = num1-num2\n",
    "multiply = num1 * num2\n",
    "exact_division = num1/num2\n",
    "floor_division = num1//num2\n",
    "power = num1 ** num2\n",
    "modulus = num1%num2\n",
    "print(\"Addition : {}, Subtraction: {}, Multiplication: {}, Exact_Division: {}, Floor_Division: {}, Power: {}, Modulus: {}\".format(add, difference, multiply,\n",
    "exact_division, floor_division, power, modulus))"
   ]
  },
  {
   "cell_type": "code",
   "execution_count": 6,
   "id": "8b00a122-3f6e-4e7c-9816-311bcfbe3eae",
   "metadata": {},
   "outputs": [
    {
     "data": {
      "text/plain": [
       "1.0"
      ]
     },
     "execution_count": 6,
     "metadata": {},
     "output_type": "execute_result"
    }
   ],
   "source": [
    "#Precedence of Arithmetic operators as PEMDAS\n",
    "'''\n",
    "PARANTHESIS\n",
    "EXPONENT\n",
    "MULTIPLICATION, DIVISION\n",
    "ADDITION, SUBTRACTION\n",
    "\n",
    "'''\n",
    "15 / 5 // 2"
   ]
  },
  {
   "cell_type": "code",
   "execution_count": 7,
   "id": "81a5c703-81f3-4404-a91f-af104275faee",
   "metadata": {},
   "outputs": [
    {
     "data": {
      "text/plain": [
       "10.0"
      ]
     },
     "execution_count": 7,
     "metadata": {},
     "output_type": "execute_result"
    }
   ],
   "source": [
    "a,b = 10,20\n",
    "a - b * a / b + a"
   ]
  },
  {
   "cell_type": "code",
   "execution_count": 1,
   "id": "85625ffd-8350-4619-8536-81a7d99ad87e",
   "metadata": {},
   "outputs": [
    {
     "data": {
      "text/plain": [
       "False"
      ]
     },
     "execution_count": 1,
     "metadata": {},
     "output_type": "execute_result"
    }
   ],
   "source": [
    "#Comparison or Relational Operators which are <,>,<=,>=,==,!=\n",
    "3 * 3 < 4 * 2\n"
   ]
  },
  {
   "cell_type": "code",
   "execution_count": 5,
   "id": "156be70e-da0f-4e43-a1da-93465822a4a0",
   "metadata": {},
   "outputs": [
    {
     "data": {
      "text/plain": [
       "True"
      ]
     },
     "execution_count": 5,
     "metadata": {},
     "output_type": "execute_result"
    }
   ],
   "source": [
    "#This evaluates to True as 45(int) is implicitly converted to 45.0(float)\n",
    "45 == 45.0"
   ]
  },
  {
   "cell_type": "code",
   "execution_count": 6,
   "id": "70ca9df1-d09b-4829-b278-2382b1dbf52a",
   "metadata": {},
   "outputs": [
    {
     "data": {
      "text/plain": [
       "False"
      ]
     },
     "execution_count": 6,
     "metadata": {},
     "output_type": "execute_result"
    }
   ],
   "source": [
    "#This evaluates to False, since string comparison is case - sensitive.\n",
    "'HI' == 'hi'"
   ]
  },
  {
   "cell_type": "code",
   "execution_count": 8,
   "id": "c52f2b17-cfb7-42e5-8d10-edcac90d329c",
   "metadata": {},
   "outputs": [
    {
     "data": {
      "text/plain": [
       "'0b111'"
      ]
     },
     "execution_count": 8,
     "metadata": {},
     "output_type": "execute_result"
    }
   ],
   "source": [
    "#Bitwise Operators\n",
    "#These work on operands as if they were string of binary digits.\n",
    "bin(7) # --> 0b111 signifies 0b as binary and 111 is the value in binary."
   ]
  },
  {
   "cell_type": "code",
   "execution_count": 9,
   "id": "341fa8b7-59ee-497b-9fe9-31bbd42f5f04",
   "metadata": {},
   "outputs": [
    {
     "name": "stdout",
     "output_type": "stream",
     "text": [
      "7\n"
     ]
    }
   ],
   "source": [
    "#For binary to decimal\n",
    "a = 0b111\n",
    "print(a)"
   ]
  },
  {
   "cell_type": "code",
   "execution_count": 11,
   "id": "d291764e-7f4b-44b3-9d6c-b84d0965fd79",
   "metadata": {},
   "outputs": [
    {
     "data": {
      "text/plain": [
       "15"
      ]
     },
     "execution_count": 11,
     "metadata": {},
     "output_type": "execute_result"
    }
   ],
   "source": [
    "7 | 9 # 7 is 0111 , 9 is 1001, so when we do bitwise OR, we get 1111(finally the ans will be in decimal)"
   ]
  },
  {
   "cell_type": "code",
   "execution_count": 12,
   "id": "d240ec95-ed0a-4072-a6b1-6021e748fa11",
   "metadata": {},
   "outputs": [
    {
     "data": {
      "text/plain": [
       "1"
      ]
     },
     "execution_count": 12,
     "metadata": {},
     "output_type": "execute_result"
    }
   ],
   "source": [
    "7 & 9"
   ]
  },
  {
   "cell_type": "code",
   "execution_count": 4,
   "id": "c902d3e8-f912-446a-85ba-22ef86f09a3a",
   "metadata": {},
   "outputs": [
    {
     "data": {
      "text/plain": [
       "False"
      ]
     },
     "execution_count": 4,
     "metadata": {},
     "output_type": "execute_result"
    }
   ],
   "source": [
    "#Logical Operators\n",
    "not True\n"
   ]
  },
  {
   "cell_type": "code",
   "execution_count": 5,
   "id": "87904394-0646-4b7c-8113-2baa5f49b1aa",
   "metadata": {},
   "outputs": [
    {
     "data": {
      "text/plain": [
       "True"
      ]
     },
     "execution_count": 5,
     "metadata": {},
     "output_type": "execute_result"
    }
   ],
   "source": [
    "(3>4) or (1<3)"
   ]
  },
  {
   "cell_type": "code",
   "execution_count": 6,
   "id": "b25fa005-df31-4794-ba58-f746f24662b9",
   "metadata": {},
   "outputs": [
    {
     "data": {
      "text/plain": [
       "True"
      ]
     },
     "execution_count": 6,
     "metadata": {},
     "output_type": "execute_result"
    }
   ],
   "source": [
    "#Order of precedence include : paranthesis, not, and, or\n",
    "(2 == 2) and (2 == 3) or (4 == 4) "
   ]
  },
  {
   "cell_type": "code",
   "execution_count": 7,
   "id": "73d874d9-a085-4885-a5a1-bafb8805e025",
   "metadata": {},
   "outputs": [
    {
     "data": {
      "text/plain": [
       "True"
      ]
     },
     "execution_count": 7,
     "metadata": {},
     "output_type": "execute_result"
    }
   ],
   "source": [
    "True or False and False"
   ]
  },
  {
   "cell_type": "code",
   "execution_count": 8,
   "id": "0be068ea-1152-49f8-af68-2b6673789c6b",
   "metadata": {},
   "outputs": [
    {
     "data": {
      "text/plain": [
       "False"
      ]
     },
     "execution_count": 8,
     "metadata": {},
     "output_type": "execute_result"
    }
   ],
   "source": [
    "(True or False) and False"
   ]
  },
  {
   "cell_type": "code",
   "execution_count": 9,
   "id": "aa240f52-6dfb-4b1e-9b09-b961f0695d32",
   "metadata": {},
   "outputs": [
    {
     "data": {
      "text/plain": [
       "True"
      ]
     },
     "execution_count": 9,
     "metadata": {},
     "output_type": "execute_result"
    }
   ],
   "source": [
    "not (True and False) or (False and True)\n",
    "#This evaluates to not (False) or (False)\n",
    "# True or False --> True"
   ]
  },
  {
   "cell_type": "code",
   "execution_count": 10,
   "id": "69ea80b2-afc2-4087-95c2-e7a79e9b3aa3",
   "metadata": {},
   "outputs": [],
   "source": [
    "#Assignment Operators\n",
    "num = 39"
   ]
  },
  {
   "cell_type": "code",
   "execution_count": 11,
   "id": "bdf1e04d-ecfc-4128-ad99-fd8232610750",
   "metadata": {},
   "outputs": [
    {
     "data": {
      "text/plain": [
       "40"
      ]
     },
     "execution_count": 11,
     "metadata": {},
     "output_type": "execute_result"
    }
   ],
   "source": [
    "num += 1\n",
    "num"
   ]
  },
  {
   "cell_type": "code",
   "execution_count": 12,
   "id": "3f801dd6-0a56-44c8-82a3-bb99b998b36b",
   "metadata": {},
   "outputs": [
    {
     "data": {
      "text/plain": [
       "45"
      ]
     },
     "execution_count": 12,
     "metadata": {},
     "output_type": "execute_result"
    }
   ],
   "source": [
    "num |= 5\n",
    "num #This evaluates to num = num | 5 --> 40 | 5 --> 101000 | 000101, so we get 101101 which is 45\n"
   ]
  },
  {
   "cell_type": "code",
   "execution_count": 13,
   "id": "107d52b7-dc10-4850-b3dc-3e60cb131df0",
   "metadata": {},
   "outputs": [
    {
     "name": "stdout",
     "output_type": "stream",
     "text": [
      "True\n"
     ]
    }
   ],
   "source": [
    "#Identity Operators (is and is not are referred to as identity operators in python)\n",
    "#They are used to check if the two values or variables refer to same part of memory or not.\n",
    "a = 5\n",
    "b = 5\n",
    "print(a is b)\n",
    "\n"
   ]
  },
  {
   "cell_type": "code",
   "execution_count": 14,
   "id": "7a964874-d092-47bf-bcd3-a5e7086a7f9f",
   "metadata": {},
   "outputs": [
    {
     "name": "stdout",
     "output_type": "stream",
     "text": [
      "True\n"
     ]
    }
   ],
   "source": [
    "s1 = \"satish\"\n",
    "s2 = \"Satish\"\n",
    "print(s1 is not s2)"
   ]
  },
  {
   "cell_type": "code",
   "execution_count": 15,
   "id": "ccac5db3-c501-4412-9f9e-663410318945",
   "metadata": {},
   "outputs": [
    {
     "name": "stdout",
     "output_type": "stream",
     "text": [
      "True\n"
     ]
    }
   ],
   "source": [
    "a = 6\n",
    "b = 8\n",
    "print(a is not b)"
   ]
  },
  {
   "cell_type": "code",
   "execution_count": 16,
   "id": "f1ae9d13-bfbd-4085-9c5a-d4587cb58928",
   "metadata": {},
   "outputs": [
    {
     "data": {
      "text/plain": [
       "True"
      ]
     },
     "execution_count": 16,
     "metadata": {},
     "output_type": "execute_result"
    }
   ],
   "source": [
    "#Membership Operator(in and not in operator)\n",
    "#These are used to check if a value or a variable is found in a sequence(string, list, tuple, set, dictionary)\n",
    "a = 'Bighnaraj'\n",
    "'raj' in a\n",
    "\n"
   ]
  },
  {
   "cell_type": "code",
   "execution_count": 17,
   "id": "77804479-1d57-4934-91df-2f6acd187307",
   "metadata": {},
   "outputs": [
    {
     "data": {
      "text/plain": [
       "False"
      ]
     },
     "execution_count": 17,
     "metadata": {},
     "output_type": "execute_result"
    }
   ],
   "source": [
    "'aaj' in a"
   ]
  },
  {
   "cell_type": "code",
   "execution_count": 18,
   "id": "0769cd37-6d53-4fa2-89b3-94584283677e",
   "metadata": {},
   "outputs": [
    {
     "data": {
      "text/plain": [
       "True"
      ]
     },
     "execution_count": 18,
     "metadata": {},
     "output_type": "execute_result"
    }
   ],
   "source": [
    "numbers = [1,2,3]\n",
    "1 in numbers"
   ]
  },
  {
   "cell_type": "code",
   "execution_count": 19,
   "id": "fd3c6860-7e83-40f8-aa05-505263504f1e",
   "metadata": {},
   "outputs": [
    {
     "name": "stdout",
     "output_type": "stream",
     "text": [
      "False\n",
      "True\n"
     ]
    }
   ],
   "source": [
    "#This is because the in operator, when used with a dictionary, checks if the given key exists in the dictionary, not the value.\n",
    "dict1 = {1: 32, 2: 33, 3: 34}\n",
    "print(32 in dict1)\n",
    "print(1 in dict1)"
   ]
  },
  {
   "cell_type": "code",
   "execution_count": 20,
   "id": "28982b8a-8bd3-4f78-b528-aca64adbb11c",
   "metadata": {},
   "outputs": [
    {
     "data": {
      "text/plain": [
       "True"
      ]
     },
     "execution_count": 20,
     "metadata": {},
     "output_type": "execute_result"
    }
   ],
   "source": [
    "#For values, we have to check in dict1.values()\n",
    "32 in dict1.values()"
   ]
  },
  {
   "cell_type": "code",
   "execution_count": 22,
   "id": "d5042e1f-76ee-4920-b635-a2ef3e0ad005",
   "metadata": {},
   "outputs": [],
   "source": [
    "#Precedence in operators are as follows: \n",
    "#PEMDAS --> BITWISE(SHIFTS, AND, XOR, OR) --> COMPARISON, MEMBERSHIP, IDENTITY --> LOGICAL OPERATORS(NOT, AND, OR)"
   ]
  },
  {
   "cell_type": "code",
   "execution_count": null,
   "id": "f449b757-4781-4e33-8c98-b02bec150baa",
   "metadata": {},
   "outputs": [],
   "source": []
  }
 ],
 "metadata": {
  "kernelspec": {
   "display_name": "Python 3 (ipykernel)",
   "language": "python",
   "name": "python3"
  },
  "language_info": {
   "codemirror_mode": {
    "name": "ipython",
    "version": 3
   },
   "file_extension": ".py",
   "mimetype": "text/x-python",
   "name": "python",
   "nbconvert_exporter": "python",
   "pygments_lexer": "ipython3",
   "version": "3.11.7"
  }
 },
 "nbformat": 4,
 "nbformat_minor": 5
}
