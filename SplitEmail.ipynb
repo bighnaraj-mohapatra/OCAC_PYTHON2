{
 "cells": [
  {
   "cell_type": "code",
   "execution_count": 8,
   "id": "8695c3bd-5512-4913-9f5f-6817b00f4715",
   "metadata": {},
   "outputs": [
    {
     "name": "stdin",
     "output_type": "stream",
     "text": [
      "Enter number of mail IDs to be entered :  2\n",
      "Enter mail ID :  hi@gmail.com\n",
      "Enter mail ID :  bighnaraj@gmail.com\n"
     ]
    },
    {
     "name": "stdout",
     "output_type": "stream",
     "text": [
      "hi bighnaraj\n"
     ]
    }
   ],
   "source": [
    "#A program to accept multiple email IDs and retrieving list of usernames.\n",
    "\n",
    "listOfUsernames = []\n",
    "num = int(input(\"Enter number of mail IDs to be entered : \"))\n",
    "for email in range(num):\n",
    "    email_ID = input(\"Enter mail ID : \")\n",
    "    index = email_ID.index(\"@\")\n",
    "    username = email_ID[: index]\n",
    "    listOfUsernames.append(username)\n",
    "print(\" \".join(listOfUsernames))\n",
    "    \n",
    "\n"
   ]
  },
  {
   "cell_type": "code",
   "execution_count": 6,
   "id": "a15bf173-7bc3-4a1d-903b-8abebddf6967",
   "metadata": {},
   "outputs": [
    {
     "name": "stdin",
     "output_type": "stream",
     "text": [
      "Enter number of mail IDs to be entered :  2\n",
      "Enter mail ID :  hi@gmail.com\n",
      "Enter mail ID :  bighnaraj@gmail.com\n"
     ]
    },
    {
     "name": "stdout",
     "output_type": "stream",
     "text": [
      "hi bighnaraj\n"
     ]
    }
   ],
   "source": [
    "#A program to accept multiple email IDs and retrieving list of usernames.\n",
    "\n",
    "num = int(input(\"Enter number of mail IDs to be entered : \"))\n",
    "listOfUsernames = []\n",
    "for email in range(num):\n",
    "    email_ID = input(\"Enter mail ID : \")\n",
    "    list = email_ID.split(\"@\")\n",
    "    username = list[0]\n",
    "    domain = list[1]\n",
    "    listOfUsernames.append(username)\n",
    "print(\" \".join(listOfUsernames))\n"
   ]
  },
  {
   "cell_type": "code",
   "execution_count": null,
   "id": "9e453417-698c-415b-baeb-9a219cefde0f",
   "metadata": {},
   "outputs": [],
   "source": []
  }
 ],
 "metadata": {
  "kernelspec": {
   "display_name": "Python 3 (ipykernel)",
   "language": "python",
   "name": "python3"
  },
  "language_info": {
   "codemirror_mode": {
    "name": "ipython",
    "version": 3
   },
   "file_extension": ".py",
   "mimetype": "text/x-python",
   "name": "python",
   "nbconvert_exporter": "python",
   "pygments_lexer": "ipython3",
   "version": "3.11.7"
  }
 },
 "nbformat": 4,
 "nbformat_minor": 5
}
